{
 "cells": [
  {
   "cell_type": "markdown",
   "id": "7fce979e",
   "metadata": {},
   "source": [
    "# Data Science Tools and Ecosystem"
   ]
  },
  {
   "cell_type": "markdown",
   "id": "c92613d0",
   "metadata": {},
   "source": [
    "In this notebook, Data Science Tools and Ecosystem are summarized."
   ]
  },
  {
   "cell_type": "markdown",
   "id": "00b73d5c",
   "metadata": {},
   "source": [
    "Some of the popular languages that Data Scientists use are:\n",
    "1. R\n",
    "2. Python\n",
    "3. SQL\n",
    "4. Java\n",
    "5. Julia\n",
    "6. C++\n",
    "7. Scala"
   ]
  },
  {
   "cell_type": "markdown",
   "id": "a036df40",
   "metadata": {},
   "source": [
    "Some of the commonly used libraries used by Data Scientists include:\n",
    "1. Scientific Computing Libraries in Python: Pandas, NumPy\n",
    "2. Visualization Libraries in Python: Matplotlib, Seaborn\n",
    "3. Machine Learning Libraries in Python: Scikit-learn, Keras\n",
    "4. Deep Learning Libraries in Python:: TensorFlow, PyTorch\n",
    "5. Scala Libraries: Vegas (statistical viz), Big DL (deep Learning)\n",
    "6. R Libraries: ggplot2 (data viz), libraries to interface with Keras and TensoFlow\n"
   ]
  },
  {
   "cell_type": "markdown",
   "id": "e98c7627",
   "metadata": {},
   "source": [
    "|Data Science Tools|\n",
    "|-|\n",
    "|Watson Studio|\n",
    "|Jupyter Lab|\n",
    "|Jupyter Notebooks|\n",
    "|Apache Zeppelin|\n",
    "|RStudio|\n",
    "|Spider|\n",
    "\n"
   ]
  },
  {
   "cell_type": "markdown",
   "id": "70da0737",
   "metadata": {},
   "source": [
    "### Below are a few examples of evaluating arithmetic expressions in Python.\n"
   ]
  },
  {
   "cell_type": "code",
   "execution_count": 1,
   "id": "9b5290f2",
   "metadata": {},
   "outputs": [
    {
     "data": {
      "text/plain": [
       "17"
      ]
     },
     "execution_count": 1,
     "metadata": {},
     "output_type": "execute_result"
    }
   ],
   "source": [
    "# This a simple arithmetic expression to mutiply then add integers\n",
    "(3*4)+5"
   ]
  },
  {
   "cell_type": "code",
   "execution_count": 9,
   "id": "10d8987e",
   "metadata": {},
   "outputs": [
    {
     "data": {
      "text/plain": [
       "3.3333333333333335"
      ]
     },
     "execution_count": 9,
     "metadata": {},
     "output_type": "execute_result"
    }
   ],
   "source": [
    "# This will convert 200 minutes to hours by diving by 60\n",
    "(200/60)"
   ]
  },
  {
   "cell_type": "markdown",
   "id": "78f1ece1",
   "metadata": {},
   "source": [
    "**Objectives:**\n",
    "- List popular languages for Data Science.\n",
    "- List libraries used by Data Scientists.\n",
    "- List Data science tools.\n",
    "- Use simple arithmetic expressions."
   ]
  },
  {
   "cell_type": "markdown",
   "id": "786cd3dd",
   "metadata": {},
   "source": [
    "## Author\n",
    "Diego J. Fernández"
   ]
  },
  {
   "cell_type": "code",
   "execution_count": null,
   "id": "178270a2",
   "metadata": {},
   "outputs": [],
   "source": []
  }
 ],
 "metadata": {
  "kernelspec": {
   "display_name": "Python 3 (ipykernel)",
   "language": "python",
   "name": "python3"
  },
  "language_info": {
   "codemirror_mode": {
    "name": "ipython",
    "version": 3
   },
   "file_extension": ".py",
   "mimetype": "text/x-python",
   "name": "python",
   "nbconvert_exporter": "python",
   "pygments_lexer": "ipython3",
   "version": "3.11.4"
  }
 },
 "nbformat": 4,
 "nbformat_minor": 5
}
